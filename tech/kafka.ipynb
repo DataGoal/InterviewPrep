{
 "cells": [
  {
   "cell_type": "code",
   "execution_count": null,
   "metadata": {},
   "outputs": [],
   "source": [
    "from pyspark.sql import SparkSession\n",
    "from pyspark.sql.functions import col, expr, from_json\n",
    "from pyspark.sql.types import StructType, StringType, IntegerType\n",
    "\n",
    "# Initialize Spark Session\n",
    "spark = SparkSession.builder \\\n",
    "    .appName(\"KafkaStreamProcessing\") \\\n",
    "    .getOrCreate()\n",
    "\n",
    "# Kafka Configuration\n",
    "KAFKA_BROKER = \"kafka-broker:9092\"  # Replace with actual broker\n",
    "KAFKA_TOPIC = \"input_topic\"\n",
    "\n",
    "# Define Schema for JSON Data\n",
    "schema = StructType([\n",
    "    StructField(\"id\", IntegerType(), True),\n",
    "    StructField(\"name\", StringType(), True),\n",
    "    StructField(\"age\", IntegerType(), True),\n",
    "    StructField(\"city\", StringType(), True)\n",
    "])\n",
    "\n",
    "# Read Stream from Kafka\n",
    "kafka_df = spark.readStream \\\n",
    "    .format(\"kafka\") \\\n",
    "    .option(\"kafka.bootstrap.servers\", KAFKA_BROKER) \\\n",
    "    .option(\"subscribe\", KAFKA_TOPIC) \\\n",
    "    .option(\"startingOffsets\", \"earliest\") \\\n",
    "    .load()\n",
    "\n",
    "# Extract value as a string and parse JSON\n",
    "parsed_df = kafka_df.selectExpr(\"CAST(value AS STRING)\") \\\n",
    "    .select(from_json(col(\"value\"), schema).alias(\"data\")) \\\n",
    "    .select(\"data.*\")\n",
    "\n",
    "# Transformation: Filter adults (age > 18)\n",
    "filtered_df = parsed_df.filter(col(\"age\") > 18)\n",
    "\n",
    "# Transformation: Add a processing timestamp\n",
    "processed_df = filtered_df.withColumn(\"processed_at\", expr(\"current_timestamp()\"))\n",
    "\n",
    "# Write to Delta Table in Append Mode\n",
    "query = processed_df.writeStream \\\n",
    "    .format(\"delta\") \\\n",
    "    .option(\"checkpointLocation\", \"dbfs:/mnt/checkpoints/kafka_stream\") \\\n",
    "    .option(\"path\", \"dbfs:/mnt/data/delta_table\") \\\n",
    "    .outputMode(\"append\") \\\n",
    "    .start()\n",
    "\n",
    "query.awaitTermination()\n"
   ]
  }
 ],
 "metadata": {
  "language_info": {
   "name": "python"
  }
 },
 "nbformat": 4,
 "nbformat_minor": 2
}
