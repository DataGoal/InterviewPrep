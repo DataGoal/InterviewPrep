{
 "cells": [
  {
   "cell_type": "code",
   "execution_count": null,
   "metadata": {},
   "outputs": [
    {
     "name": "stdout",
     "output_type": "stream",
     "text": [
      "1 2\n"
     ]
    }
   ],
   "source": [
    "# 2Sum\n",
    "nums = [2, 5, 3, 6]\n",
    "target = 8\n",
    "\n",
    "d = {}\n",
    "\n",
    "for k, v in enumerate(nums, 0):\n",
    "    if target-v in d:\n",
    "        print (d[target-v], k)\n",
    "        break\n",
    "    else:\n",
    "        d[v] = k\n"
   ]
  },
  {
   "cell_type": "code",
   "execution_count": null,
   "metadata": {},
   "outputs": [
    {
     "name": "stdout",
     "output_type": "stream",
     "text": [
      "There is a duplicate\n"
     ]
    }
   ],
   "source": [
    "# contains duplicate\n",
    "nums = [1, 2, 3, 4, 5, 4]\n",
    "d = {}\n",
    "\n",
    "for i in nums:\n",
    "    if i not in d:\n",
    "        d[i] = 1\n",
    "    else:\n",
    "        print('There is a duplicate')\n",
    "       "
   ]
  },
  {
   "cell_type": "code",
   "execution_count": null,
   "metadata": {},
   "outputs": [
    {
     "name": "stdout",
     "output_type": "stream",
     "text": [
      "True\n"
     ]
    }
   ],
   "source": [
    "# contains duplicate\n",
    "\n",
    "nums = [1, 2, 3, 5, 4]\n",
    "print(len(set(nums))==len(nums))"
   ]
  },
  {
   "cell_type": "code",
   "execution_count": 17,
   "metadata": {},
   "outputs": [
    {
     "name": "stdout",
     "output_type": "stream",
     "text": [
      "True\n"
     ]
    }
   ],
   "source": [
    "# validAnagram\n",
    "from collections import Counter\n",
    "s, t = 'bala','alab'\n",
    "s_counter = Counter(s) == Counter(t)\n",
    "print(s_counter)"
   ]
  },
  {
   "cell_type": "code",
   "execution_count": 27,
   "metadata": {},
   "outputs": [
    {
     "name": "stdout",
     "output_type": "stream",
     "text": [
      "0 1\n"
     ]
    }
   ],
   "source": [
    "# twoPointerTwoSum\n",
    "nums = [2,5,7,9]\n",
    "target = 7\n",
    "\n",
    "l, r = 0, len(nums)-1\n",
    "\n",
    "while l < r:\n",
    "    if nums[l] + nums[r] == target:\n",
    "        print(l, r)\n",
    "        break\n",
    "    elif nums[l] + nums[r] > target:\n",
    "        r -= 1\n",
    "    else:\n",
    "        l += 1\n",
    "    \n",
    "    "
   ]
  },
  {
   "cell_type": "code",
   "execution_count": 63,
   "metadata": {},
   "outputs": [
    {
     "name": "stdout",
     "output_type": "stream",
     "text": [
      "1994\n"
     ]
    }
   ],
   "source": [
    "# roman to int\n",
    "\n",
    "num = 'MCMXCIV'\n",
    "d = {'I':1,'V':5,'X':10,'L':50,'C':100,'D':500,'M':1000}\n",
    "sum = 0\n",
    "for i in range(len(num)):\n",
    "    if i + 1 < len(num) and d[num[i]] < d[num[i+1]]:\n",
    "        sum -= d[num[i]]\n",
    "    else:\n",
    "        sum += d[num[i]]\n",
    "print(sum)     "
   ]
  },
  {
   "cell_type": "code",
   "execution_count": null,
   "metadata": {},
   "outputs": [
    {
     "name": "stdout",
     "output_type": "stream",
     "text": [
      "3\n"
     ]
    }
   ],
   "source": [
    "# majaority element\n",
    "nums = [1, 3, 3, 3, 3, 6, 7]\n",
    "\n",
    "curNum = 0\n",
    "cnt = 0\n",
    "\n",
    "for i in nums:\n",
    "    if cnt == 0:\n",
    "        curNum = i\n",
    "    if i == curNum:\n",
    "        cnt += 1\n",
    "    else:\n",
    "        cnt -= 1\n",
    "print(curNum)            "
   ]
  },
  {
   "cell_type": "code",
   "execution_count": 103,
   "metadata": {},
   "outputs": [
    {
     "name": "stdout",
     "output_type": "stream",
     "text": [
      "4\n"
     ]
    }
   ],
   "source": [
    "# lengthOfLastWord\n",
    "ster = \"   hi            moon         \"\n",
    "cnt = 0\n",
    "iter = len(ster)-1\n",
    "\n",
    "while 0 <= iter and ster[iter] == ' ':\n",
    "        iter -= 1\n",
    "while 0 <= iter and ster[iter] != ' ':\n",
    "        cnt += 1\n",
    "        iter -= 1\n",
    "\n",
    "print(cnt)"
   ]
  },
  {
   "cell_type": "code",
   "execution_count": 109,
   "metadata": {},
   "outputs": [
    {
     "name": "stdout",
     "output_type": "stream",
     "text": [
      "5\n"
     ]
    }
   ],
   "source": [
    "# maxProfit\n",
    "prices = [7,1,5,3,6,4]\n",
    "\n",
    "maxp = 0\n",
    "l, r = 0, 1\n",
    "\n",
    "while r < len(prices):\n",
    "    if prices[r] > prices[l]:\n",
    "        maxp = max(prices[r] - prices[l], maxp)\n",
    "        r += 1\n",
    "    else:\n",
    "        l = r\n",
    "        r += 1\n",
    "print(maxp)        "
   ]
  },
  {
   "cell_type": "code",
   "execution_count": 130,
   "metadata": {},
   "outputs": [
    {
     "name": "stdout",
     "output_type": "stream",
     "text": [
      "0\n"
     ]
    }
   ],
   "source": [
    "haystack = \"sadbutsad\"\n",
    "needle = \"sad\"\n",
    "\n",
    "if len(haystack) < len(needle):\n",
    "    print('-1')\n",
    "\n",
    "for i in range(len(haystack)):\n",
    "    if haystack[i:i+len(needle)] == needle:\n",
    "        print(i)\n",
    "        break"
   ]
  },
  {
   "cell_type": "code",
   "execution_count": 165,
   "metadata": {},
   "outputs": [
    {
     "name": "stdout",
     "output_type": "stream",
     "text": [
      "[1, 2]\n"
     ]
    }
   ],
   "source": [
    "from collections import Counter\n",
    "nums = [1,1,1,2,2,3]\n",
    "k=2\n",
    "frequencyCounter = Counter(nums)\n",
    "initAr = [[] for _ in range(len(nums)+1)]\n",
    "res = []\n",
    "for ke, v in frequencyCounter.items():\n",
    "    initAr[v].append(ke)\n",
    "\n",
    "for i in range(len(nums), 0, -1):\n",
    "    for j in initAr[i]:\n",
    "        res.append(j)\n",
    "        if len(res) == k:\n",
    "            break\n",
    "    if len(res) == k:\n",
    "        break    \n",
    "\n",
    "print(res)\n"
   ]
  },
  {
   "cell_type": "code",
   "execution_count": 168,
   "metadata": {},
   "outputs": [
    {
     "name": "stdout",
     "output_type": "stream",
     "text": [
      "['1', '3', '7']\n",
      "137\n"
     ]
    }
   ],
   "source": [
    "n=143287\n",
    "odd_digits = [d for d in str(abs(n)) if int(d) % 2 == 1]\n",
    "odd_digits.sort()\n",
    "print(odd_digits)\n",
    "print(int(\"\".join(odd_digits)))"
   ]
  }
 ],
 "metadata": {
  "kernelspec": {
   "display_name": "Python 3",
   "language": "python",
   "name": "python3"
  },
  "language_info": {
   "codemirror_mode": {
    "name": "ipython",
    "version": 3
   },
   "file_extension": ".py",
   "mimetype": "text/x-python",
   "name": "python",
   "nbconvert_exporter": "python",
   "pygments_lexer": "ipython3",
   "version": "3.9.13"
  }
 },
 "nbformat": 4,
 "nbformat_minor": 2
}
