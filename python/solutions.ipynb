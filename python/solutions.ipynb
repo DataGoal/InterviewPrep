{
 "cells": [
  {
   "cell_type": "code",
   "execution_count": 14,
   "metadata": {},
   "outputs": [
    {
     "data": {
      "text/plain": [
       "'\\nhttps://leetcode.com/problems/two-sum/description/\\nhttps://leetcode.com/problems/contains-duplicate/\\nhttps://leetcode.com/problems/valid-anagram/\\nhttps://leetcode.com/problems/two-sum-ii-input-array-is-sorted/\\nhttps://leetcode.com/problems/roman-to-integer/\\nhttps://leetcode.com/problems/palindrome-number/\\nhttps://leetcode.com/problems/majority-element/\\nhttps://leetcode.com/problems/length-of-last-word/\\nhttps://leetcode.com/problems/best-time-to-buy-and-sell-stock/\\nhttps://leetcode.com/problems/find-the-index-of-the-first-occurrence-in-a-string/\\nhttps://leetcode.com/problems/top-k-frequent-elements/description/\\nhttps://leetcode.com/problems/kids-with-the-greatest-number-of-candies/description/\\nhttps://leetcode.com/problems/find-the-difference/\\nhttps://leetcode.com/problems/rotate-array/\\nhttps://leetcode.com/problems/valid-palindrome/\\nhttps://leetcode.com/problems/reverse-string/\\nhttps://leetcode.com/problems/move-zeroes/\\nhttps://leetcode.com/problems/single-number/\\nhttps://leetcode.com/problems/binary-search/\\nhttps://leetcode.com/problems/longest-substring-without-repeating-characters/submissions/\\nhttps://leetcode.com/problems/uncommon-words-from-two-sentences/description/\\nhttps://leetcode.com/problems/fizz-buzz/\\nhttps://leetcode.com/problems/longest-common-prefix/\\nhttps://leetcode.com/problems/maximum-subarray/description/\\nhttps://leetcode.com/problems/number-of-different-integers-in-a-string/description/\\nhttps://leetcode.com/problems/reformat-date/\\nhttps://leetcode.com/problems/valid-parentheses/\\nhttps://leetcode.com/problems/find-center-of-star-graph/description/\\nhttps://leetcode.com/problems/find-words-that-can-be-formed-by-characters/description/\\nhttps://leetcode.com/problems/subarray-sum-equals-k/description/\\n'"
      ]
     },
     "execution_count": 14,
     "metadata": {},
     "output_type": "execute_result"
    }
   ],
   "source": [
    "'''\n",
    "https://leetcode.com/problems/two-sum/description/\n",
    "https://leetcode.com/problems/contains-duplicate/\n",
    "https://leetcode.com/problems/valid-anagram/\n",
    "https://leetcode.com/problems/two-sum-ii-input-array-is-sorted/\n",
    "https://leetcode.com/problems/roman-to-integer/\n",
    "https://leetcode.com/problems/palindrome-number/\n",
    "https://leetcode.com/problems/majority-element/\n",
    "https://leetcode.com/problems/length-of-last-word/\n",
    "https://leetcode.com/problems/best-time-to-buy-and-sell-stock/\n",
    "https://leetcode.com/problems/find-the-index-of-the-first-occurrence-in-a-string/\n",
    "https://leetcode.com/problems/top-k-frequent-elements/description/\n",
    "https://leetcode.com/problems/kids-with-the-greatest-number-of-candies/description/\n",
    "https://leetcode.com/problems/find-the-difference/\n",
    "https://leetcode.com/problems/rotate-array/\n",
    "https://leetcode.com/problems/valid-palindrome/\n",
    "https://leetcode.com/problems/reverse-string/\n",
    "https://leetcode.com/problems/move-zeroes/\n",
    "https://leetcode.com/problems/single-number/\n",
    "https://leetcode.com/problems/binary-search/\n",
    "https://leetcode.com/problems/longest-substring-without-repeating-characters/submissions/\n",
    "https://leetcode.com/problems/uncommon-words-from-two-sentences/description/\n",
    "https://leetcode.com/problems/fizz-buzz/\n",
    "https://leetcode.com/problems/longest-common-prefix/\n",
    "https://leetcode.com/problems/maximum-subarray/description/\n",
    "https://leetcode.com/problems/number-of-different-integers-in-a-string/description/\n",
    "https://leetcode.com/problems/reformat-date/\n",
    "https://leetcode.com/problems/valid-parentheses/\n",
    "https://leetcode.com/problems/find-center-of-star-graph/description/\n",
    "https://leetcode.com/problems/find-words-that-can-be-formed-by-characters/description/\n",
    "https://leetcode.com/problems/subarray-sum-equals-k/description/\n",
    "'''"
   ]
  },
  {
   "cell_type": "code",
   "execution_count": 15,
   "metadata": {},
   "outputs": [
    {
     "name": "stdout",
     "output_type": "stream",
     "text": [
      "(1, 2)\n"
     ]
    }
   ],
   "source": [
    "def twoSum(nums, target):\n",
    "    # https://leetcode.com/problems/two-sum/description/\n",
    "    # Jan 10 2025\n",
    "    d = {}\n",
    "    for k, v in enumerate(nums, 0):\n",
    "        if target-v in d:\n",
    "            return (d[target-v], k)\n",
    "        else:\n",
    "            d[v] = k\n",
    "            \n",
    "print(twoSum([2, 5, 3, 6], 8))            "
   ]
  },
  {
   "cell_type": "code",
   "execution_count": 16,
   "metadata": {},
   "outputs": [
    {
     "name": "stdout",
     "output_type": "stream",
     "text": [
      "True\n"
     ]
    }
   ],
   "source": [
    "def hasDuplicate(nums):\n",
    "    # https://leetcode.com/problems/contains-duplicate/\n",
    "    # Jan 11 2025\n",
    "    d = {}\n",
    "    for i in nums:\n",
    "        if i not in d:\n",
    "            d[i] = 1\n",
    "        else:\n",
    "            return True\n",
    "    return False        \n",
    "\n",
    "print(hasDuplicate([1,2,3,4,2]))\n"
   ]
  },
  {
   "cell_type": "code",
   "execution_count": 17,
   "metadata": {},
   "outputs": [
    {
     "name": "stdout",
     "output_type": "stream",
     "text": [
      "True\n"
     ]
    }
   ],
   "source": [
    "def isAnagram(s, t):\n",
    "    # https://leetcode.com/problems/valid-anagram/\n",
    "    # Jan 11 2025\n",
    "    if len(s) != len(t):\n",
    "        return False\n",
    "\n",
    "    s_map, t_map = {}, {}\n",
    "\n",
    "    for i in s:\n",
    "        if i not in s_map:\n",
    "            s_map[i] = 1\n",
    "        else:\n",
    "            s_map[i] += 1\n",
    "\n",
    "    for j in t:\n",
    "        if j not in t_map:\n",
    "            t_map[j] = 1\n",
    "        else:\n",
    "            t_map[j] += 1\n",
    "\n",
    "    return sorted(s_map) == sorted(t_map)\n",
    "\n",
    "print(isAnagram('bala','bala'))"
   ]
  },
  {
   "cell_type": "code",
   "execution_count": 18,
   "metadata": {},
   "outputs": [
    {
     "name": "stdout",
     "output_type": "stream",
     "text": [
      "(11, 15)\n"
     ]
    }
   ],
   "source": [
    "def twoPointerTwoSum(nums, target):\n",
    "    # https://leetcode.com/problems/two-sum-ii-input-array-is-sorted/\n",
    "    # Jan 12 2025\n",
    "    left, right = 0, len(nums)-1\n",
    "\n",
    "    while left < right:\n",
    "        curr_sum = nums[left] + nums[right]\n",
    "        if curr_sum == target:\n",
    "            return (nums[left], nums[right])\n",
    "        elif curr_sum < target:\n",
    "            left += 1\n",
    "        else:\n",
    "            right -= 1\n",
    "    return None \n",
    "\n",
    "print(twoPointerTwoSum([2,7,11,15],26))"
   ]
  },
  {
   "cell_type": "code",
   "execution_count": 19,
   "metadata": {},
   "outputs": [
    {
     "name": "stdout",
     "output_type": "stream",
     "text": [
      "9\n"
     ]
    }
   ],
   "source": [
    "def romanToInt(s):\n",
    "    # https://leetcode.com/problems/roman-to-integer/\n",
    "    # Jan 13 2025\n",
    "    d = {'I':1,'V':5,'X':10,'L':50,'C':100,'D':500,'M':1000}\n",
    "    s_rev = s[::-1]\n",
    "    a = 0\n",
    "    prev_val = 0\n",
    "    for i in s_rev:\n",
    "        if d[i] < prev_val:\n",
    "            a -= d[i]\n",
    "        else:\n",
    "            a += d[i]\n",
    "        prev_val = d[i]\n",
    "    return a\n",
    "\n",
    "print(romanToInt('IX'))\n"
   ]
  },
  {
   "cell_type": "code",
   "execution_count": 20,
   "metadata": {},
   "outputs": [
    {
     "name": "stdout",
     "output_type": "stream",
     "text": [
      "ghb\n"
     ]
    }
   ],
   "source": [
    "def reverseStr(s):\n",
    "    a = ''\n",
    "    for i in s:\n",
    "        a = i + a\n",
    "    return a\n",
    "\n",
    "print(reverseStr('bhg'))"
   ]
  },
  {
   "cell_type": "code",
   "execution_count": 21,
   "metadata": {},
   "outputs": [
    {
     "name": "stdout",
     "output_type": "stream",
     "text": [
      "[1, 3, 6]\n"
     ]
    }
   ],
   "source": [
    "def cumliativeSum(nums):\n",
    "    a = 0\n",
    "    b = []\n",
    "    for i in nums:\n",
    "        a = a + i\n",
    "        b.append(a)\n",
    "    return b \n",
    "\n",
    "print(cumliativeSum([1,2,3]))"
   ]
  },
  {
   "cell_type": "code",
   "execution_count": 22,
   "metadata": {},
   "outputs": [
    {
     "name": "stdout",
     "output_type": "stream",
     "text": [
      "['1', '2', '3', '4', '5']\n"
     ]
    }
   ],
   "source": [
    "def numToIntList(s):\n",
    "    a = []\n",
    "    for i in str(s): \n",
    "        a.append(i)\n",
    "    return a\n",
    "\n",
    "print(numToIntList(12345))"
   ]
  },
  {
   "cell_type": "code",
   "execution_count": 23,
   "metadata": {},
   "outputs": [
    {
     "name": "stdout",
     "output_type": "stream",
     "text": [
      "True\n"
     ]
    }
   ],
   "source": [
    "def isPalindromeNum(x):\n",
    "    # https://leetcode.com/problems/palindrome-number/\n",
    "    if x < 0:\n",
    "        return False\n",
    "    newNum = 0\n",
    "    inputNum = x\n",
    "    while x > 0:\n",
    "        newNum = newNum * 10 + x % 10\n",
    "        x = x//10\n",
    "    return inputNum == newNum\n",
    "\n",
    "print(isPalindromeNum(121))\n"
   ]
  },
  {
   "cell_type": "code",
   "execution_count": 24,
   "metadata": {},
   "outputs": [
    {
     "name": "stdout",
     "output_type": "stream",
     "text": [
      "{'id': 1, 'name': 'John Doe', 'contact_email': 'john.doe@example.com', 'contact_phone_home': '123-456-7890', 'contact_phone_mobile': '987-654-3210', 'address_city': 'New York', 'address_zip': '10001'}\n"
     ]
    }
   ],
   "source": [
    "# Flatten the JSON data\n",
    "def flatten_json(y, prefix=''):\n",
    "    flat = {}\n",
    "    for key, value in y.items():\n",
    "        if type(value) == dict:\n",
    "            flat.update(flatten_json(value, f\"{prefix}{key}_\"))\n",
    "        else:\n",
    "            flat[f\"{prefix}{key}\"] = value\n",
    "    return flat\n",
    "    \n",
    "data = {\n",
    "    \"id\": 1,\n",
    "    \"name\": \"John Doe\",\n",
    "    \"contact\": {\n",
    "        \"email\": \"john.doe@example.com\",\n",
    "        \"phone\": {\n",
    "            \"home\": \"123-456-7890\",\n",
    "            \"mobile\": \"987-654-3210\"\n",
    "        }\n",
    "    },\n",
    "    \"address\": {\n",
    "        \"city\": \"New York\",\n",
    "        \"zip\": \"10001\"\n",
    "    }\n",
    "}\n",
    "print(flatten_json(data))    "
   ]
  },
  {
   "cell_type": "code",
   "execution_count": 25,
   "metadata": {},
   "outputs": [
    {
     "name": "stdout",
     "output_type": "stream",
     "text": [
      "2\n",
      "2\n"
     ]
    }
   ],
   "source": [
    "def majorityElementHashMap(nums):\n",
    "    # https://leetcode.com/problems/majority-element/\n",
    "    nums_len = len(nums)//2\n",
    "    d = {}\n",
    "    for i in nums:\n",
    "        d[i] = d.get(i,0) + 1\n",
    "    for k, v in d.items():\n",
    "        if v > nums_len:\n",
    "            return k\n",
    "    return None\n",
    "\n",
    "def majorityElementMooreAlgo(nums):\n",
    "    curNum = 0\n",
    "    count = 0\n",
    "\n",
    "    for i in nums:\n",
    "        if count == 0:\n",
    "            curNum = i\n",
    "\n",
    "        if i == curNum:\n",
    "            count += 1\n",
    "        else:\n",
    "            count -= 1\n",
    "    return curNum        \n",
    "\n",
    "print(majorityElementHashMap([1,2,3,2,4,2,2,2]))\n",
    "print(majorityElementMooreAlgo([1,2,3,2,4,2,2,2]))"
   ]
  },
  {
   "cell_type": "code",
   "execution_count": 26,
   "metadata": {},
   "outputs": [
    {
     "name": "stdout",
     "output_type": "stream",
     "text": [
      "5\n"
     ]
    }
   ],
   "source": [
    "def lengthOfLastWord(s):\n",
    "    # https://leetcode.com/problems/length-of-last-word/\n",
    "    sList = s.strip().split(' ')\n",
    "    a = sList[-1]\n",
    "    return len(a)\n",
    "\n",
    "print(lengthOfLastWord('Hello World   '))"
   ]
  },
  {
   "cell_type": "code",
   "execution_count": 27,
   "metadata": {},
   "outputs": [
    {
     "name": "stdout",
     "output_type": "stream",
     "text": [
      "5\n"
     ]
    }
   ],
   "source": [
    "def maxProfit(prices):\n",
    "    # https://leetcode.com/problems/best-time-to-buy-and-sell-stock/\n",
    "    left, right = 0, 1\n",
    "    maxPrice = 0\n",
    "\n",
    "    while right < len(prices):\n",
    "        if prices[left] < prices[right]:\n",
    "            maxPrice = max(maxPrice, prices[right] - prices[left])\n",
    "            right = right + 1\n",
    "        else:\n",
    "            left = right\n",
    "            right = right + 1\n",
    "\n",
    "    return maxPrice\n",
    "\n",
    "print(maxProfit([7,1,5,3,6,4]))    "
   ]
  },
  {
   "cell_type": "code",
   "execution_count": 28,
   "metadata": {},
   "outputs": [
    {
     "name": "stdout",
     "output_type": "stream",
     "text": [
      "0\n"
     ]
    }
   ],
   "source": [
    "def strStr(haystack, needle):\n",
    "    # https://leetcode.com/problems/find-the-index-of-the-first-occurrence-in-a-string/\n",
    "    if len(haystack) < len(needle):\n",
    "        return -1\n",
    "    for i in range(len(haystack)):\n",
    "        if haystack[i:i+len(needle)] == needle:\n",
    "            return i\n",
    "\n",
    "    return -1\n",
    "    \n",
    "print(strStr('sadbutsad','sad'))    "
   ]
  },
  {
   "cell_type": "code",
   "execution_count": 29,
   "metadata": {},
   "outputs": [
    {
     "name": "stdout",
     "output_type": "stream",
     "text": [
      "5\n"
     ]
    }
   ],
   "source": [
    "def maxP(prices):\n",
    "    l, r = 0, 1\n",
    "    mp = 0\n",
    "\n",
    "    while r < len(prices):\n",
    "        if prices[l] < prices [r]:\n",
    "            sp = prices[r] - prices[l]\n",
    "            mp = max(mp, sp)\n",
    "            r = r + 1\n",
    "        else:\n",
    "            l = r\n",
    "            r = r + 1\n",
    "    return mp\n",
    "\n",
    "print(maxP([7,1,5,3,6,4]))            \n"
   ]
  },
  {
   "cell_type": "code",
   "execution_count": 30,
   "metadata": {},
   "outputs": [
    {
     "name": "stdout",
     "output_type": "stream",
     "text": [
      "9\n"
     ]
    }
   ],
   "source": [
    "def romanToInt2(roman):\n",
    "    d = {'I':1,'V':5,'X':10,'L':50,'C':100,'D':500,'M':1000}\n",
    "    sum = 0\n",
    "    prev_val = 0\n",
    "\n",
    "    for i in roman[::-1]:\n",
    "        if d[i] < prev_val:\n",
    "            sum = sum - d[i]\n",
    "        else:\n",
    "            sum = sum + d[i]\n",
    "        prev_val = sum\n",
    "    return sum    \n",
    "\n",
    "print(romanToInt2('IX'))        \n",
    "\n",
    "    "
   ]
  },
  {
   "cell_type": "code",
   "execution_count": 31,
   "metadata": {},
   "outputs": [
    {
     "name": "stdout",
     "output_type": "stream",
     "text": [
      "(0, 1)\n"
     ]
    }
   ],
   "source": [
    "def twoPointerTwoSum2(nums, target):\n",
    "    left = 0\n",
    "    right = len(nums) - 1\n",
    "\n",
    "    while left < len(nums):\n",
    "        if nums[left] + nums[right] == target:\n",
    "            return (left, right)\n",
    "        elif nums[left] + nums[right] < target:\n",
    "            left = left + 1\n",
    "        else:\n",
    "            right = right - 1\n",
    "    return left+1, right+1       \n",
    "\n",
    "            \n",
    "\n",
    "print(twoPointerTwoSum2([2,7,11,15], 9))        "
   ]
  },
  {
   "cell_type": "code",
   "execution_count": 32,
   "metadata": {},
   "outputs": [
    {
     "name": "stdout",
     "output_type": "stream",
     "text": [
      "[1, 2]\n"
     ]
    }
   ],
   "source": [
    "def topKFrequent(nums, k):\n",
    "    # https://leetcode.com/problems/top-k-frequent-elements/description/\n",
    "    d = {}\n",
    "    for i in nums:\n",
    "        d[i] = d.get(i,0) + 1\n",
    "    rev_d = sorted(d.items(), key=lambda x: x[1], reverse=True)\n",
    "\n",
    "    return [key for key, _ in rev_d[:k]] \n",
    "\n",
    "print(topKFrequent([1,1,1,2,2,3], 2))"
   ]
  },
  {
   "cell_type": "code",
   "execution_count": 33,
   "metadata": {},
   "outputs": [
    {
     "name": "stdout",
     "output_type": "stream",
     "text": [
      "True\n"
     ]
    }
   ],
   "source": [
    "def hasDups(nums):\n",
    "    for i in range(len(nums)):\n",
    "        for k in range(i + 1, len(nums)):\n",
    "            if nums[i] == nums[k]:\n",
    "                return True\n",
    "    return False\n",
    "\n",
    "print(hasDups([1,2,3,1]))          "
   ]
  },
  {
   "cell_type": "code",
   "execution_count": 34,
   "metadata": {},
   "outputs": [
    {
     "name": "stdout",
     "output_type": "stream",
     "text": [
      "['true', 'false', 'false', 'false', 'false']\n"
     ]
    }
   ],
   "source": [
    "def kidsWithCandies(nums, candies):\n",
    "    # https://leetcode.com/problems/kids-with-the-greatest-number-of-candies/description/\n",
    "    res = []\n",
    "    maxCandy = max(nums)\n",
    "    for i in nums:\n",
    "        addCandies = i + candies\n",
    "        if (addCandies >= maxCandy):\n",
    "            res.append('true')\n",
    "        else:\n",
    "            res.append('false')\n",
    "\n",
    "    return res\n",
    "\n",
    "print(kidsWithCandies([4,2,1,1,2],1))  \n",
    "\n"
   ]
  },
  {
   "cell_type": "code",
   "execution_count": 35,
   "metadata": {},
   "outputs": [],
   "source": [
    "'''\n",
    "You are given a very large CSV file that does not fit entirely in memory. Your task is to write a Python generator function named read_large_csv that:\n",
    "\n",
    "Opens and reads the CSV file line by line.\n",
    "Uses Python's built-in csv module.\n",
    "Yields each row as a dictionary (using the header row for keys).\n",
    "Please provide your code for the generator function and explain how your approach efficiently handles the large file without consuming too much memory.\n",
    "'''\n",
    "\n",
    "import csv\n",
    "\n",
    "def read_large_csv(csv_path):\n",
    "    with open(csv_path, 'r', newline='') as file:\n",
    "        csv_reader = csv.DictReader(file)\n",
    "        for row in csv_reader:\n",
    "            yield row\n"
   ]
  },
  {
   "cell_type": "code",
   "execution_count": 36,
   "metadata": {},
   "outputs": [
    {
     "ename": "SyntaxError",
     "evalue": "invalid syntax (3335744329.py, line 1)",
     "output_type": "error",
     "traceback": [
      "\u001b[0;36m  Cell \u001b[0;32mIn[36], line 1\u001b[0;36m\u001b[0m\n\u001b[0;31m    As a Senior Data Engineer at Tiger Analytics(Blue Cross Blue Shield Association), I spearheaded the design and implementation of scalable data solutions to streamline enterprise data workflows. My key contributions include:\u001b[0m\n\u001b[0m       ^\u001b[0m\n\u001b[0;31mSyntaxError\u001b[0m\u001b[0;31m:\u001b[0m invalid syntax\n"
     ]
    }
   ],
   "source": [
    "As a Senior Data Engineer at Tiger Analytics(Blue Cross Blue Shield Association), I spearheaded the design and implementation of scalable data solutions to streamline enterprise data workflows. My key contributions include:\n",
    "\n",
    "Led end-to-end automation of a custom migration utility framework, enabling seamless transfer of 900+ legacy DB2 tables into AWS Databricks, including historical data migration, while ensuring data integrity and governance.\n",
    "\n",
    "Architected a custom ingestion framework to integrate 60+ heterogeneous source system tables and deliver 40+ curated tables, accelerating data availability for downstream analytics.\n",
    "\n",
    "Engineered a configurable access control system to enforce fine-grained data governance policies, improving compliance and security across pipelines.\n",
    "\n",
    "Optimized analytics performance by redesigning 3 mission-critical Tableau dashboards, reducing load times by 30% and enhancing user experience for stakeholders.\n",
    "\n",
    "Established end-to-end data lineage across Oracle, SQL Server, and shared drives for Snowflake ingestion, coupled with rewriting SQL Server ETL logic to slash processing time by 40%.\n",
    "\n",
    "-------\n",
    "As a Data Engineer II at NielsenIQ, I engineered cloud-based data solutions to optimize batch and real-time processing workflows. Key achievements include:\n",
    "\n",
    "Refactored and parallelized a legacy Spark application to process 180 GB/batch of data, improving scalability and reducing runtime by 25% for cloud deployments.\n",
    "\n",
    "Designed and deployed an Airflow DAG to orchestrate 20+ Databricks Spark and external jobs, ensuring 99.9% uptime and seamless batch processing for mission-critical analytics.\n",
    "\n",
    "Automated manual workflows using Python and Pandas, reducing a recurring 3-day Excel reporting task to 4 hours while maintaining 100% data accuracy.\n",
    "\n",
    "Enhanced the RTM framework with hybrid functionality to process multi-country datasets across dynamic time ranges, enabling scalability for global business use cases.\n",
    "\n",
    "Architected an end-to-end Spark Streaming pipeline to ingest and process Kafka messages in real time, supporting low-latency decision-making for stakeholders.\n",
    "--------\n",
    "As a Data Engineer II at Comcast, I focused on building robust data infrastructure and ensuring enterprise-wide data reliability. Key contributions include:\n",
    "\n",
    "Implemented 60 automated data quality checks across 20+ source and target systems using Scala Spark on AWS Databricks, ensuring 99.5% accuracy in critical datasets.\n",
    "\n",
    "Engineered a CI/CD pipeline with Concourse, integrating 30 unit tests to automate Spark application deployments, reducing deployment errors by 50% and accelerating release cycles by 40%.\n",
    "\n",
    "Redesigned a Spark application to dynamically fetch job parameters from RDBMS, eliminating manual configuration and improving maintenance efficiency by 35%.\n",
    "\n",
    "Enhanced a data quality framework by integrating MongoDB for metadata storage, enabling real-time auditing and faster anomaly detection. Designed a star-schema data model for AWS Redshift to optimize query performance for parameter tables, reducing report generation time by 25%.\n",
    "\n",
    "-----\n",
    "As a Data Engineer at Standard Chartered Bank, I engineered scalable data pipelines and automated workflows to streamline enterprise data operations. Key achievements include:\n",
    "\n",
    "Involved in developing a preprocessing application using shell scripts, Sqoop, and Hive to migrate 300+ GB of raw data from NAS to Hadoop in AVRO format, accelerating data lake ingestion by 20% and ensuring schema consistency.\n",
    "\n",
    "Automated reconciliation reports with Python to monitor hourly/daily incremental batches for Hive SCD tables, achieving 99.8% accuracy and reducing manual validation efforts by 70%.\n",
    "\n",
    "Created DDL scripts and scheduled jobs via Control-M to automate data sourcing across 15+ source systems.\n",
    "\n",
    "Optimized Spark application performance by analyzing execution plans and tuning resource allocation, reducing job runtime by 25% for critical ETL workflows."
   ]
  },
  {
   "cell_type": "code",
   "execution_count": null,
   "metadata": {},
   "outputs": [],
   "source": [
    "Given an integer array nums, move all 0's to the end of it while maintaining the relative order of the non-zero elements.\n",
    "\n",
    "Note that you must do this in-place without making a copy of the array.\n",
    "\n",
    " \n",
    "\n",
    "Example 1:\n",
    "\n",
    "Input: nums = [0,1,0,3,12]\n",
    "Output: [1,3,12,0,0]\n",
    "Example 2:\n",
    "\n",
    "Input: nums = [0]\n",
    "Output: [0]\n",
    " \n",
    "\n",
    "Constraints:\n",
    "\n",
    "1 <= nums.length <= 104\n",
    "-231 <= nums[i] <= 231 - 1"
   ]
  }
 ],
 "metadata": {
  "kernelspec": {
   "display_name": "Python 3",
   "language": "python",
   "name": "python3"
  },
  "language_info": {
   "codemirror_mode": {
    "name": "ipython",
    "version": 3
   },
   "file_extension": ".py",
   "mimetype": "text/x-python",
   "name": "python",
   "nbconvert_exporter": "python",
   "pygments_lexer": "ipython3",
   "version": "3.11.5"
  }
 },
 "nbformat": 4,
 "nbformat_minor": 2
}
