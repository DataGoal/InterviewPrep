{
 "cells": [
  {
   "cell_type": "code",
   "execution_count": 2,
   "metadata": {},
   "outputs": [
    {
     "name": "stdout",
     "output_type": "stream",
     "text": [
      "(1, 2)\n"
     ]
    }
   ],
   "source": [
    "def twoSum(nums, target):\n",
    "    # https://leetcode.com/problems/two-sum/description/\n",
    "    # Jan 10 2025\n",
    "    d = {}\n",
    "    for k, v in enumerate(nums, 0):\n",
    "        if target-v in d:\n",
    "            return (d[target-v], k)\n",
    "        else:\n",
    "            d[v] = k\n",
    "            \n",
    "print(twoSum([2, 5, 3, 6], 8))            "
   ]
  },
  {
   "cell_type": "code",
   "execution_count": 3,
   "metadata": {},
   "outputs": [
    {
     "name": "stdout",
     "output_type": "stream",
     "text": [
      "True\n"
     ]
    }
   ],
   "source": [
    "def hasDuplicate(nums):\n",
    "    # https://leetcode.com/problems/contains-duplicate/\n",
    "    # Jan 11 2025\n",
    "    d = {}\n",
    "    for i in nums:\n",
    "        if i not in d:\n",
    "            d[i] = 1\n",
    "        else:\n",
    "            return True\n",
    "    return False\n",
    "\n",
    "print(hasDuplicate([1,2,3,4,2]))"
   ]
  },
  {
   "cell_type": "code",
   "execution_count": 4,
   "metadata": {},
   "outputs": [
    {
     "name": "stdout",
     "output_type": "stream",
     "text": [
      "True\n"
     ]
    }
   ],
   "source": [
    "def isAnagram(s, t):\n",
    "    # https://leetcode.com/problems/valid-anagram/\n",
    "    # Jan 11 2025\n",
    "    if len(s) != len(t):\n",
    "        return False\n",
    "\n",
    "    s_map, t_map = {}, {}\n",
    "\n",
    "    for i in s:\n",
    "        if i not in s_map:\n",
    "            s_map[i] = 1\n",
    "        else:\n",
    "            s_map[i] += 1\n",
    "\n",
    "    for j in t:\n",
    "        if j not in t_map:\n",
    "            t_map[j] = 1\n",
    "        else:\n",
    "            t_map[j] += 1\n",
    "\n",
    "    return sorted(s_map) == sorted(t_map)\n",
    "\n",
    "print(isAnagram('bala','bala'))"
   ]
  },
  {
   "cell_type": "code",
   "execution_count": 5,
   "metadata": {},
   "outputs": [
    {
     "name": "stdout",
     "output_type": "stream",
     "text": [
      "(11, 15)\n"
     ]
    }
   ],
   "source": [
    "def twoPointerTwoSum(nums, target):\n",
    "    # https://leetcode.com/problems/two-sum-ii-input-array-is-sorted/\n",
    "    # Jan 12 2025\n",
    "    left, right = 0, len(nums)-1\n",
    "\n",
    "    while left < right:\n",
    "        curr_sum = nums[left] + nums[right]\n",
    "        if curr_sum == target:\n",
    "            return (nums[left], nums[right])\n",
    "        elif curr_sum < target:\n",
    "            left += 1\n",
    "        else:\n",
    "            right -= 1\n",
    "    return None \n",
    "\n",
    "print(twoPointerTwoSum([2,7,11,15],26))"
   ]
  },
  {
   "cell_type": "code",
   "execution_count": 6,
   "metadata": {},
   "outputs": [
    {
     "name": "stdout",
     "output_type": "stream",
     "text": [
      "4\n"
     ]
    }
   ],
   "source": [
    "def romanToInt(s):\n",
    "    # https://leetcode.com/problems/roman-to-integer/\n",
    "    # Jan 13 2025\n",
    "    d = {'I':1,'V':5,'X':10,'L':50,'C':100,'D':500,'M':1000}\n",
    "    s_rev = s[::-1]\n",
    "    a = 0\n",
    "    prev_val = 0\n",
    "    for i in s_rev:\n",
    "        if d[i] < prev_val:\n",
    "            a -= d[i]\n",
    "        else:\n",
    "            a += d[i]\n",
    "        prev_val = d[i]\n",
    "    return a\n",
    "\n",
    "print(romanToInt('IV'))\n"
   ]
  },
  {
   "cell_type": "code",
   "execution_count": 7,
   "metadata": {},
   "outputs": [
    {
     "name": "stdout",
     "output_type": "stream",
     "text": [
      "ghb\n"
     ]
    }
   ],
   "source": [
    "def reverseStr(s):\n",
    "    a = ''\n",
    "    for i in s:\n",
    "        a = i + a\n",
    "    return a\n",
    "\n",
    "print(reverseStr('bhg'))"
   ]
  },
  {
   "cell_type": "code",
   "execution_count": 8,
   "metadata": {},
   "outputs": [
    {
     "name": "stdout",
     "output_type": "stream",
     "text": [
      "[1, 3, 6]\n"
     ]
    }
   ],
   "source": [
    "def cumliativeSum(nums):\n",
    "    a = 0\n",
    "    b = []\n",
    "    for i in nums:\n",
    "        a = a + i\n",
    "        b.append(a)\n",
    "    return b \n",
    "\n",
    "print(cumliativeSum([1,2,3]))"
   ]
  },
  {
   "cell_type": "code",
   "execution_count": 9,
   "metadata": {},
   "outputs": [
    {
     "name": "stdout",
     "output_type": "stream",
     "text": [
      "['1', '2', '3', '4', '5']\n"
     ]
    }
   ],
   "source": [
    "def numToIntList(s):\n",
    "    a = []\n",
    "    for i in str(s): \n",
    "        a.append(i)\n",
    "    return a\n",
    "\n",
    "print(numToIntList(12345))"
   ]
  },
  {
   "cell_type": "code",
   "execution_count": 10,
   "metadata": {},
   "outputs": [
    {
     "name": "stdout",
     "output_type": "stream",
     "text": [
      "True\n"
     ]
    }
   ],
   "source": [
    "def isPalindromeNum(x):\n",
    "    # https://leetcode.com/problems/palindrome-number/\n",
    "    if x < 0:\n",
    "        return False\n",
    "    newNum = 0\n",
    "    inputNum = x\n",
    "    while x > 0:\n",
    "        newNum = newNum * 10 + x % 10\n",
    "        x = x//10\n",
    "    return inputNum == newNum\n",
    "\n",
    "print(isPalindromeNum(121))\n"
   ]
  },
  {
   "cell_type": "code",
   "execution_count": null,
   "metadata": {},
   "outputs": [],
   "source": []
  }
 ],
 "metadata": {
  "kernelspec": {
   "display_name": "Python 3",
   "language": "python",
   "name": "python3"
  },
  "language_info": {
   "codemirror_mode": {
    "name": "ipython",
    "version": 3
   },
   "file_extension": ".py",
   "mimetype": "text/x-python",
   "name": "python",
   "nbconvert_exporter": "python",
   "pygments_lexer": "ipython3",
   "version": "3.11.5"
  }
 },
 "nbformat": 4,
 "nbformat_minor": 2
}
